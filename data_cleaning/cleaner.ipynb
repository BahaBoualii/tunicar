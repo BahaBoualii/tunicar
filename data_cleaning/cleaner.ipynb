{
 "cells": [
  {
   "cell_type": "code",
   "execution_count": 31,
   "metadata": {},
   "outputs": [],
   "source": [
    "import pandas as pd\n",
    "data = pd.read_csv(\"../data/automobile_data.csv\")\n",
    "backup_data = pd.read_csv(\"../data/automobile_data.csv\")"
   ]
  },
  {
   "cell_type": "markdown",
   "metadata": {},
   "source": [
    "Check for null values in our data"
   ]
  },
  {
   "cell_type": "code",
   "execution_count": 32,
   "metadata": {},
   "outputs": [
    {
     "name": "stdout",
     "output_type": "stream",
     "text": [
      "Title                1\n",
      "Price                1\n",
      "Manufacturer         1\n",
      "Category             1\n",
      "Fuel Type            1\n",
      "Fiscal Horsepower    1\n",
      "Transmission         1\n",
      "Mileage              1\n",
      "Year                 1\n",
      "Insertion Date       1\n",
      "dtype: int64\n"
     ]
    }
   ],
   "source": [
    "print(data.isnull().sum())"
   ]
  },
  {
   "cell_type": "markdown",
   "metadata": {},
   "source": [
    "Because we found that only one row is null in our initial dataset we can just drop it"
   ]
  },
  {
   "cell_type": "code",
   "execution_count": 33,
   "metadata": {},
   "outputs": [],
   "source": [
    "data = data.dropna()"
   ]
  },
  {
   "cell_type": "markdown",
   "metadata": {},
   "source": [
    "Double check for null values again"
   ]
  },
  {
   "cell_type": "code",
   "execution_count": 34,
   "metadata": {},
   "outputs": [
    {
     "name": "stdout",
     "output_type": "stream",
     "text": [
      "Title                0\n",
      "Price                0\n",
      "Manufacturer         0\n",
      "Category             0\n",
      "Fuel Type            0\n",
      "Fiscal Horsepower    0\n",
      "Transmission         0\n",
      "Mileage              0\n",
      "Year                 0\n",
      "Insertion Date       0\n",
      "dtype: int64\n"
     ]
    }
   ],
   "source": [
    "print(data.isnull().sum())"
   ]
  },
  {
   "cell_type": "markdown",
   "metadata": {},
   "source": [
    "Replace white spaces between words with \"_\" in columns names for consistency"
   ]
  },
  {
   "cell_type": "code",
   "execution_count": 35,
   "metadata": {},
   "outputs": [],
   "source": [
    "data.columns = data.columns.str.replace(\" \", \"_\").str.lower()"
   ]
  },
  {
   "cell_type": "markdown",
   "metadata": {},
   "source": [
    "Ensuring uniformity for categorical columns like fuel_type, transmission ... by checking unique vqlues and stardizing them"
   ]
  },
  {
   "cell_type": "code",
   "execution_count": 36,
   "metadata": {},
   "outputs": [
    {
     "name": "stdout",
     "output_type": "stream",
     "text": [
      "['Essence' 'Diesel' 'Hybride essence' 'Hybride rechargeable essence'\n",
      " 'Hybride rechargeable diesel' 'Hybride diesel' 'Electrique']\n"
     ]
    }
   ],
   "source": [
    "print(data[\"fuel_type\"].unique())"
   ]
  },
  {
   "cell_type": "code",
   "execution_count": 37,
   "metadata": {},
   "outputs": [],
   "source": [
    "data[\"fuel_type\"] = data[\"fuel_type\"].replace({\n",
    "    \"Essence\": \"Petrol\",\n",
    "    \"Hybride essence\": \"Hybrid Petrol\",\n",
    "    \"Diesel\": \"Diesel\",\n",
    "    \"Hybride rechargeable essence\": \"Hybrid Petrol\",\n",
    "    \"Hybride rechargeable diesel\": \"Hybrid Diesel\",\n",
    "    \"Hybride diesel\": \"Hybrid Diesel\",\n",
    "    \"Electrique\": \"Electric\"\n",
    "})"
   ]
  },
  {
   "cell_type": "code",
   "execution_count": 38,
   "metadata": {},
   "outputs": [
    {
     "name": "stdout",
     "output_type": "stream",
     "text": [
      "['Automatique' 'Manuelle']\n"
     ]
    }
   ],
   "source": [
    "print(data[\"transmission\"].unique())"
   ]
  },
  {
   "cell_type": "code",
   "execution_count": 39,
   "metadata": {},
   "outputs": [],
   "source": [
    "data[\"transmission\"] = data[\"transmission\"].replace({\n",
    "    \"Automatique\": \"Automatic\",\n",
    "    \"Manuelle\": \"Manual\"\n",
    "})"
   ]
  },
  {
   "cell_type": "code",
   "execution_count": 40,
   "metadata": {},
   "outputs": [
    {
     "name": "stdout",
     "output_type": "stream",
     "text": [
      "['Petrol' 'Diesel' 'Hybrid Petrol' 'Hybrid Diesel' 'Electric']\n",
      "['Automatic' 'Manual']\n"
     ]
    }
   ],
   "source": [
    "print(data[\"fuel_type\"].unique())\n",
    "print(data[\"transmission\"].unique())"
   ]
  },
  {
   "cell_type": "markdown",
   "metadata": {},
   "source": [
    "Next we want to check for rows with unrealistic mileage (0 km) because we are working with only used cars, so the 0 km cars are not new that's why we will replace the 0 values with the average milage for used cars according to our dataset"
   ]
  },
  {
   "cell_type": "code",
   "execution_count": 41,
   "metadata": {},
   "outputs": [
    {
     "name": "stdout",
     "output_type": "stream",
     "text": [
      "                                          title     price manufacturer  \\\n",
      "6            Mercedes-Benz GLC Coupé 200 hybrid  450000.0     Mercedes   \n",
      "64        Mercedes-Benz GLC Coupé GLC 200 COUPE  440000.0     Mercedes   \n",
      "91   Land Rover Range Rover Evoque R dynamic SE  358000.0   Land Rover   \n",
      "97     Land Rover Range Rover Sport HSE DYNAMIC  748000.0   Land Rover   \n",
      "757                             Cupra Formentor  190000.0        Cupra   \n",
      "909                 Mercedes-Benz GLE Coupé AMG  590000.0     Mercedes   \n",
      "\n",
      "    category      fuel_type  fiscal_horsepower transmission  mileage     year  \\\n",
      "6    SUV/4x4  Hybrid Petrol               11.0    Automatic      0.0   1.2024   \n",
      "64   SUV/4x4  Hybrid Petrol               11.0    Automatic      0.0   9.2023   \n",
      "91   SUV/4x4         Diesel                9.0    Automatic      0.0   2.2024   \n",
      "97   SUV/4x4  Hybrid Petrol               28.0    Automatic      0.0   2.2024   \n",
      "757  SUV/4x4         Petrol               11.0    Automatic      0.0  11.2023   \n",
      "909  SUV/4x4         Diesel               12.0    Automatic      0.0   1.2024   \n",
      "\n",
      "    insertion_date  \n",
      "6       26.02.2024  \n",
      "64      26.02.2024  \n",
      "91      26.02.2024  \n",
      "97      26.02.2024  \n",
      "757     26.02.2024  \n",
      "909     30.01.2024  \n"
     ]
    }
   ],
   "source": [
    "print(data[data[\"mileage\"] == 0])"
   ]
  },
  {
   "cell_type": "code",
   "execution_count": 42,
   "metadata": {},
   "outputs": [],
   "source": [
    "median_mileage = data.loc[data[\"mileage\"] > 0, \"mileage\"].median()\n",
    "data[\"mileage\"] = data[\"mileage\"].replace(0, median_mileage)"
   ]
  },
  {
   "cell_type": "code",
   "execution_count": 43,
   "metadata": {},
   "outputs": [
    {
     "name": "stdout",
     "output_type": "stream",
     "text": [
      "Empty DataFrame\n",
      "Columns: [title, price, manufacturer, category, fuel_type, fiscal_horsepower, transmission, mileage, year, insertion_date]\n",
      "Index: []\n"
     ]
    }
   ],
   "source": [
    "print(data[data[\"mileage\"] == 0]) "
   ]
  },
  {
   "cell_type": "markdown",
   "metadata": {},
   "source": [
    "Next, we are dropping duplicates from our data"
   ]
  },
  {
   "cell_type": "code",
   "execution_count": 44,
   "metadata": {},
   "outputs": [],
   "source": [
    "data = data.drop_duplicates()"
   ]
  },
  {
   "cell_type": "code",
   "execution_count": 45,
   "metadata": {},
   "outputs": [
    {
     "name": "stdout",
     "output_type": "stream",
     "text": [
      "Number of rows after dropping duplicates: 1578\n"
     ]
    }
   ],
   "source": [
    "print(f\"Number of rows after dropping duplicates: {len(data)}\")"
   ]
  },
  {
   "cell_type": "markdown",
   "metadata": {},
   "source": [
    "So we are left with 1578 after dropping duplicates, which is a good starting point to build upon. Let's preview our dataset after these changes for a final check before moving forward to the next steps"
   ]
  },
  {
   "cell_type": "code",
   "execution_count": 46,
   "metadata": {},
   "outputs": [
    {
     "name": "stdout",
     "output_type": "stream",
     "text": [
      "title                0\n",
      "price                0\n",
      "manufacturer         0\n",
      "category             0\n",
      "fuel_type            0\n",
      "fiscal_horsepower    0\n",
      "transmission         0\n",
      "mileage              0\n",
      "year                 0\n",
      "insertion_date       0\n",
      "dtype: int64\n",
      "                         title     price manufacturer   category fuel_type  \\\n",
      "0                      Audi S3  128000.0         Audi   Citadine    Petrol   \n",
      "1  Mahindra Scorpio Pick-up DC   32000.0     Mahindra    Pick up    Diesel   \n",
      "2                   Fiat Doblo   56000.0         Fiat  Monospace    Petrol   \n",
      "3                  Ford Fusion   45000.0         Ford    Berline    Petrol   \n",
      "4                MG GS AWD 2.0   61000.0           MG    SUV/4x4    Petrol   \n",
      "\n",
      "   fiscal_horsepower transmission   mileage     year insertion_date  \n",
      "0               19.0    Automatic  120000.0   6.2014     26.02.2024  \n",
      "1                7.0       Manual   85000.0  11.2020     26.02.2024  \n",
      "2                6.0       Manual   32000.0   7.2021     26.02.2024  \n",
      "3                9.0       Manual  200000.0  11.2015     26.02.2024  \n",
      "4               13.0    Automatic  100000.0   6.2017     26.02.2024  \n"
     ]
    }
   ],
   "source": [
    "print(data.isnull().sum())\n",
    "\n",
    "print(data.head())"
   ]
  },
  {
   "cell_type": "markdown",
   "metadata": {},
   "source": [
    "Next we will convert some columns into their right data types"
   ]
  },
  {
   "cell_type": "code",
   "execution_count": 47,
   "metadata": {},
   "outputs": [],
   "source": [
    "data[\"price\"] = data[\"price\"].astype(float)\n",
    "data[\"insertion_date\"] = pd.to_datetime(data[\"insertion_date\"], format=\"%d.%m.%Y\")"
   ]
  },
  {
   "cell_type": "code",
   "execution_count": 48,
   "metadata": {},
   "outputs": [
    {
     "name": "stdout",
     "output_type": "stream",
     "text": [
      "                         title     price manufacturer   category fuel_type  \\\n",
      "0                      Audi S3  128000.0         Audi   Citadine    Petrol   \n",
      "1  Mahindra Scorpio Pick-up DC   32000.0     Mahindra    Pick up    Diesel   \n",
      "2                   Fiat Doblo   56000.0         Fiat  Monospace    Petrol   \n",
      "3                  Ford Fusion   45000.0         Ford    Berline    Petrol   \n",
      "4                MG GS AWD 2.0   61000.0           MG    SUV/4x4    Petrol   \n",
      "\n",
      "   fiscal_horsepower transmission   mileage     year insertion_date  \n",
      "0               19.0    Automatic  120000.0   6.2014     2024-02-26  \n",
      "1                7.0       Manual   85000.0  11.2020     2024-02-26  \n",
      "2                6.0       Manual   32000.0   7.2021     2024-02-26  \n",
      "3                9.0       Manual  200000.0  11.2015     2024-02-26  \n",
      "4               13.0    Automatic  100000.0   6.2017     2024-02-26  \n"
     ]
    }
   ],
   "source": [
    "print(data.head())"
   ]
  },
  {
   "cell_type": "markdown",
   "metadata": {},
   "source": [
    "Handle the \"year\" column to only keep the year because we're not interested in the month part"
   ]
  },
  {
   "cell_type": "code",
   "execution_count": 58,
   "metadata": {},
   "outputs": [],
   "source": [
    "data[\"year\"] = data[\"year\"].astype(str)\n",
    "data[\"year\"] = data[\"year\"].str.split(\".\").str[1].astype(int)"
   ]
  },
  {
   "cell_type": "code",
   "execution_count": 59,
   "metadata": {},
   "outputs": [
    {
     "name": "stdout",
     "output_type": "stream",
     "text": [
      "                         title     price manufacturer   category fuel_type  \\\n",
      "0                      Audi S3  128000.0         Audi   Citadine    Petrol   \n",
      "1  Mahindra Scorpio Pick-up DC   32000.0     Mahindra    Pick up    Diesel   \n",
      "2                   Fiat Doblo   56000.0         Fiat  Monospace    Petrol   \n",
      "3                  Ford Fusion   45000.0         Ford    Berline    Petrol   \n",
      "4                MG GS AWD 2.0   61000.0           MG    SUV/4x4    Petrol   \n",
      "\n",
      "   fiscal_horsepower transmission   mileage  year insertion_date  \n",
      "0               19.0    Automatic  120000.0  2014     2024-02-26  \n",
      "1                7.0       Manual   85000.0   202     2024-02-26  \n",
      "2                6.0       Manual   32000.0  2021     2024-02-26  \n",
      "3                9.0       Manual  200000.0  2015     2024-02-26  \n",
      "4               13.0    Automatic  100000.0  2017     2024-02-26  \n"
     ]
    }
   ],
   "source": [
    "print(data.head())"
   ]
  },
  {
   "cell_type": "code",
   "execution_count": null,
   "metadata": {},
   "outputs": [
    {
     "name": "stdout",
     "output_type": "stream",
     "text": [
      "Number of rows with 'Year' exactly equal to '202': 172\n"
     ]
    }
   ],
   "source": [
    "filtered_data = data[data[\"year\"].astype(str) == '202']\n",
    "\n",
    "count = filtered_data.shape[0]\n",
    "\n",
    "print(f\"Number of rows with 'Year' exactly equal to '202': {count}\")"
   ]
  },
  {
   "cell_type": "markdown",
   "metadata": {},
   "source": [
    "We saw that after formatting the year as we want, some values didn't fit exactly into the format we wanted as they lack 0 at the end, we find that '2020' values bacame '202', that's what we will fix in the next section"
   ]
  },
  {
   "cell_type": "code",
   "execution_count": 62,
   "metadata": {},
   "outputs": [
    {
     "name": "stdout",
     "output_type": "stream",
     "text": [
      "                         title     price manufacturer   category fuel_type  \\\n",
      "0                      Audi S3  128000.0         Audi   Citadine    Petrol   \n",
      "1  Mahindra Scorpio Pick-up DC   32000.0     Mahindra    Pick up    Diesel   \n",
      "2                   Fiat Doblo   56000.0         Fiat  Monospace    Petrol   \n",
      "3                  Ford Fusion   45000.0         Ford    Berline    Petrol   \n",
      "4                MG GS AWD 2.0   61000.0           MG    SUV/4x4    Petrol   \n",
      "\n",
      "   fiscal_horsepower transmission   mileage  year insertion_date  \n",
      "0               19.0    Automatic  120000.0  2014     2024-02-26  \n",
      "1                7.0       Manual   85000.0  2020     2024-02-26  \n",
      "2                6.0       Manual   32000.0  2021     2024-02-26  \n",
      "3                9.0       Manual  200000.0  2015     2024-02-26  \n",
      "4               13.0    Automatic  100000.0  2017     2024-02-26  \n"
     ]
    }
   ],
   "source": [
    "data[\"year\"] = data[\"year\"].astype(str).replace('202', '2020')\n",
    "print(data.head())"
   ]
  },
  {
   "cell_type": "markdown",
   "metadata": {},
   "source": [
    "In this next part we will focus on the category column, to make sure that our categorical columns are ready before moving on to feature engineering part"
   ]
  },
  {
   "cell_type": "code",
   "execution_count": 63,
   "metadata": {},
   "outputs": [
    {
     "name": "stdout",
     "output_type": "stream",
     "text": [
      "['Citadine' 'Pick up' 'Monospace' 'Berline' 'SUV/4x4' 'Compacte'\n",
      " 'Utilitaire' 'Coupé' 'Autres' 'Cabriolet']\n"
     ]
    }
   ],
   "source": [
    "print(data[\"category\"].unique())"
   ]
  },
  {
   "cell_type": "code",
   "execution_count": 64,
   "metadata": {},
   "outputs": [],
   "source": [
    "data[\"category\"] = data[\"category\"].replace({\n",
    "    'Citadine': 'City',\n",
    "    'Pick up': 'Pickup',\n",
    "    'Monospace': 'Minivan',\n",
    "    'Berline': 'Sedan',\n",
    "    'SUV/4x4': 'SUV',\n",
    "    'Compacte': 'Compact',\n",
    "    'Utilitaire': 'Utility',\n",
    "    'Coupé': 'Coupe',\n",
    "    'Autres': 'Other',\n",
    "    'Cabriolet': 'Convertible'\n",
    "})"
   ]
  },
  {
   "cell_type": "code",
   "execution_count": 65,
   "metadata": {},
   "outputs": [
    {
     "name": "stdout",
     "output_type": "stream",
     "text": [
      "                         title     price manufacturer category fuel_type  \\\n",
      "0                      Audi S3  128000.0         Audi     City    Petrol   \n",
      "1  Mahindra Scorpio Pick-up DC   32000.0     Mahindra   Pickup    Diesel   \n",
      "2                   Fiat Doblo   56000.0         Fiat  Minivan    Petrol   \n",
      "3                  Ford Fusion   45000.0         Ford    Sedan    Petrol   \n",
      "4                MG GS AWD 2.0   61000.0           MG      SUV    Petrol   \n",
      "\n",
      "   fiscal_horsepower transmission   mileage  year insertion_date  \n",
      "0               19.0    Automatic  120000.0  2014     2024-02-26  \n",
      "1                7.0       Manual   85000.0  2020     2024-02-26  \n",
      "2                6.0       Manual   32000.0  2021     2024-02-26  \n",
      "3                9.0       Manual  200000.0  2015     2024-02-26  \n",
      "4               13.0    Automatic  100000.0  2017     2024-02-26  \n"
     ]
    }
   ],
   "source": [
    "print(data.head())"
   ]
  },
  {
   "cell_type": "markdown",
   "metadata": {},
   "source": [
    "Next, we move to feature engineering"
   ]
  },
  {
   "cell_type": "markdown",
   "metadata": {},
   "source": [
    "First, we want to extract the age of each listed car"
   ]
  },
  {
   "cell_type": "code",
   "execution_count": 70,
   "metadata": {},
   "outputs": [],
   "source": [
    "current_year = pd.to_datetime(\"today\").year\n",
    "data[\"age\"] = current_year - data[\"year\"].astype(int)"
   ]
  },
  {
   "cell_type": "code",
   "execution_count": 71,
   "metadata": {},
   "outputs": [
    {
     "name": "stdout",
     "output_type": "stream",
     "text": [
      "                         title     price manufacturer category fuel_type  \\\n",
      "0                      Audi S3  128000.0         Audi     City    Petrol   \n",
      "1  Mahindra Scorpio Pick-up DC   32000.0     Mahindra   Pickup    Diesel   \n",
      "2                   Fiat Doblo   56000.0         Fiat  Minivan    Petrol   \n",
      "3                  Ford Fusion   45000.0         Ford    Sedan    Petrol   \n",
      "4                MG GS AWD 2.0   61000.0           MG      SUV    Petrol   \n",
      "\n",
      "   fiscal_horsepower transmission   mileage  year insertion_date  age  \n",
      "0               19.0    Automatic  120000.0  2014     2024-02-26   10  \n",
      "1                7.0       Manual   85000.0  2020     2024-02-26    4  \n",
      "2                6.0       Manual   32000.0  2021     2024-02-26    3  \n",
      "3                9.0       Manual  200000.0  2015     2024-02-26    9  \n",
      "4               13.0    Automatic  100000.0  2017     2024-02-26    7  \n"
     ]
    }
   ],
   "source": [
    "print(data.head())"
   ]
  },
  {
   "cell_type": "markdown",
   "metadata": {},
   "source": [
    "Next, we want to extract the price per km and per hosepower for each listed car"
   ]
  },
  {
   "cell_type": "code",
   "execution_count": 72,
   "metadata": {},
   "outputs": [],
   "source": [
    "data[\"price_per_km\"] = data[\"price\"] / data[\"mileage\"]\n",
    "data[\"price_per_horsepower\"] = data[\"price\"] / data[\"fiscal_horsepower\"]"
   ]
  },
  {
   "cell_type": "code",
   "execution_count": 73,
   "metadata": {},
   "outputs": [
    {
     "name": "stdout",
     "output_type": "stream",
     "text": [
      "                         title     price manufacturer category fuel_type  \\\n",
      "0                      Audi S3  128000.0         Audi     City    Petrol   \n",
      "1  Mahindra Scorpio Pick-up DC   32000.0     Mahindra   Pickup    Diesel   \n",
      "2                   Fiat Doblo   56000.0         Fiat  Minivan    Petrol   \n",
      "3                  Ford Fusion   45000.0         Ford    Sedan    Petrol   \n",
      "4                MG GS AWD 2.0   61000.0           MG      SUV    Petrol   \n",
      "\n",
      "   fiscal_horsepower transmission   mileage  year insertion_date  age  \\\n",
      "0               19.0    Automatic  120000.0  2014     2024-02-26   10   \n",
      "1                7.0       Manual   85000.0  2020     2024-02-26    4   \n",
      "2                6.0       Manual   32000.0  2021     2024-02-26    3   \n",
      "3                9.0       Manual  200000.0  2015     2024-02-26    9   \n",
      "4               13.0    Automatic  100000.0  2017     2024-02-26    7   \n",
      "\n",
      "   price_per_km  price_per_horsepower  \n",
      "0      1.066667           6736.842105  \n",
      "1      0.376471           4571.428571  \n",
      "2      1.750000           9333.333333  \n",
      "3      0.225000           5000.000000  \n",
      "4      0.610000           4692.307692  \n"
     ]
    }
   ],
   "source": [
    "print(data.head())"
   ]
  },
  {
   "cell_type": "markdown",
   "metadata": {},
   "source": [
    "We will remove the Insertion Date column from our dataset, because it won't be useful for our study"
   ]
  },
  {
   "cell_type": "code",
   "execution_count": 75,
   "metadata": {},
   "outputs": [
    {
     "data": {
      "text/html": [
       "<div>\n",
       "<style scoped>\n",
       "    .dataframe tbody tr th:only-of-type {\n",
       "        vertical-align: middle;\n",
       "    }\n",
       "\n",
       "    .dataframe tbody tr th {\n",
       "        vertical-align: top;\n",
       "    }\n",
       "\n",
       "    .dataframe thead th {\n",
       "        text-align: right;\n",
       "    }\n",
       "</style>\n",
       "<table border=\"1\" class=\"dataframe\">\n",
       "  <thead>\n",
       "    <tr style=\"text-align: right;\">\n",
       "      <th></th>\n",
       "      <th>title</th>\n",
       "      <th>price</th>\n",
       "      <th>manufacturer</th>\n",
       "      <th>category</th>\n",
       "      <th>fuel_type</th>\n",
       "      <th>fiscal_horsepower</th>\n",
       "      <th>transmission</th>\n",
       "      <th>mileage</th>\n",
       "      <th>year</th>\n",
       "      <th>age</th>\n",
       "      <th>price_per_km</th>\n",
       "      <th>price_per_horsepower</th>\n",
       "    </tr>\n",
       "  </thead>\n",
       "  <tbody>\n",
       "    <tr>\n",
       "      <th>0</th>\n",
       "      <td>Audi S3</td>\n",
       "      <td>128000.0</td>\n",
       "      <td>Audi</td>\n",
       "      <td>City</td>\n",
       "      <td>Petrol</td>\n",
       "      <td>19.0</td>\n",
       "      <td>Automatic</td>\n",
       "      <td>120000.0</td>\n",
       "      <td>2014</td>\n",
       "      <td>10</td>\n",
       "      <td>1.066667</td>\n",
       "      <td>6736.842105</td>\n",
       "    </tr>\n",
       "    <tr>\n",
       "      <th>1</th>\n",
       "      <td>Mahindra Scorpio Pick-up DC</td>\n",
       "      <td>32000.0</td>\n",
       "      <td>Mahindra</td>\n",
       "      <td>Pickup</td>\n",
       "      <td>Diesel</td>\n",
       "      <td>7.0</td>\n",
       "      <td>Manual</td>\n",
       "      <td>85000.0</td>\n",
       "      <td>2020</td>\n",
       "      <td>4</td>\n",
       "      <td>0.376471</td>\n",
       "      <td>4571.428571</td>\n",
       "    </tr>\n",
       "    <tr>\n",
       "      <th>2</th>\n",
       "      <td>Fiat Doblo</td>\n",
       "      <td>56000.0</td>\n",
       "      <td>Fiat</td>\n",
       "      <td>Minivan</td>\n",
       "      <td>Petrol</td>\n",
       "      <td>6.0</td>\n",
       "      <td>Manual</td>\n",
       "      <td>32000.0</td>\n",
       "      <td>2021</td>\n",
       "      <td>3</td>\n",
       "      <td>1.750000</td>\n",
       "      <td>9333.333333</td>\n",
       "    </tr>\n",
       "    <tr>\n",
       "      <th>3</th>\n",
       "      <td>Ford Fusion</td>\n",
       "      <td>45000.0</td>\n",
       "      <td>Ford</td>\n",
       "      <td>Sedan</td>\n",
       "      <td>Petrol</td>\n",
       "      <td>9.0</td>\n",
       "      <td>Manual</td>\n",
       "      <td>200000.0</td>\n",
       "      <td>2015</td>\n",
       "      <td>9</td>\n",
       "      <td>0.225000</td>\n",
       "      <td>5000.000000</td>\n",
       "    </tr>\n",
       "    <tr>\n",
       "      <th>4</th>\n",
       "      <td>MG GS AWD 2.0</td>\n",
       "      <td>61000.0</td>\n",
       "      <td>MG</td>\n",
       "      <td>SUV</td>\n",
       "      <td>Petrol</td>\n",
       "      <td>13.0</td>\n",
       "      <td>Automatic</td>\n",
       "      <td>100000.0</td>\n",
       "      <td>2017</td>\n",
       "      <td>7</td>\n",
       "      <td>0.610000</td>\n",
       "      <td>4692.307692</td>\n",
       "    </tr>\n",
       "    <tr>\n",
       "      <th>...</th>\n",
       "      <td>...</td>\n",
       "      <td>...</td>\n",
       "      <td>...</td>\n",
       "      <td>...</td>\n",
       "      <td>...</td>\n",
       "      <td>...</td>\n",
       "      <td>...</td>\n",
       "      <td>...</td>\n",
       "      <td>...</td>\n",
       "      <td>...</td>\n",
       "      <td>...</td>\n",
       "      <td>...</td>\n",
       "    </tr>\n",
       "    <tr>\n",
       "      <th>1594</th>\n",
       "      <td>Renault Clio</td>\n",
       "      <td>28900.0</td>\n",
       "      <td>Renault</td>\n",
       "      <td>City</td>\n",
       "      <td>Petrol</td>\n",
       "      <td>5.0</td>\n",
       "      <td>Manual</td>\n",
       "      <td>233000.0</td>\n",
       "      <td>201</td>\n",
       "      <td>1823</td>\n",
       "      <td>0.124034</td>\n",
       "      <td>5780.000000</td>\n",
       "    </tr>\n",
       "    <tr>\n",
       "      <th>1595</th>\n",
       "      <td>KIA Sportage</td>\n",
       "      <td>100000.0</td>\n",
       "      <td>KIA</td>\n",
       "      <td>SUV</td>\n",
       "      <td>Diesel</td>\n",
       "      <td>10.0</td>\n",
       "      <td>Automatic</td>\n",
       "      <td>130000.0</td>\n",
       "      <td>2016</td>\n",
       "      <td>8</td>\n",
       "      <td>0.769231</td>\n",
       "      <td>10000.000000</td>\n",
       "    </tr>\n",
       "    <tr>\n",
       "      <th>1596</th>\n",
       "      <td>Volkswagen Golf 7 IQ drive</td>\n",
       "      <td>79500.0</td>\n",
       "      <td>Volkswagen</td>\n",
       "      <td>Compact</td>\n",
       "      <td>Petrol</td>\n",
       "      <td>6.0</td>\n",
       "      <td>Manual</td>\n",
       "      <td>100000.0</td>\n",
       "      <td>2019</td>\n",
       "      <td>5</td>\n",
       "      <td>0.795000</td>\n",
       "      <td>13250.000000</td>\n",
       "    </tr>\n",
       "    <tr>\n",
       "      <th>1597</th>\n",
       "      <td>Toyota Aygo</td>\n",
       "      <td>33000.0</td>\n",
       "      <td>Toyota</td>\n",
       "      <td>Compact</td>\n",
       "      <td>Petrol</td>\n",
       "      <td>4.0</td>\n",
       "      <td>Manual</td>\n",
       "      <td>69000.0</td>\n",
       "      <td>2020</td>\n",
       "      <td>4</td>\n",
       "      <td>0.478261</td>\n",
       "      <td>8250.000000</td>\n",
       "    </tr>\n",
       "    <tr>\n",
       "      <th>1598</th>\n",
       "      <td>Ford Ka Titanium</td>\n",
       "      <td>25500.0</td>\n",
       "      <td>Ford</td>\n",
       "      <td>City</td>\n",
       "      <td>Petrol</td>\n",
       "      <td>4.0</td>\n",
       "      <td>Manual</td>\n",
       "      <td>98000.0</td>\n",
       "      <td>2014</td>\n",
       "      <td>10</td>\n",
       "      <td>0.260204</td>\n",
       "      <td>6375.000000</td>\n",
       "    </tr>\n",
       "  </tbody>\n",
       "</table>\n",
       "<p>1578 rows × 12 columns</p>\n",
       "</div>"
      ],
      "text/plain": [
       "                            title     price manufacturer category fuel_type  \\\n",
       "0                         Audi S3  128000.0         Audi     City    Petrol   \n",
       "1     Mahindra Scorpio Pick-up DC   32000.0     Mahindra   Pickup    Diesel   \n",
       "2                      Fiat Doblo   56000.0         Fiat  Minivan    Petrol   \n",
       "3                     Ford Fusion   45000.0         Ford    Sedan    Petrol   \n",
       "4                   MG GS AWD 2.0   61000.0           MG      SUV    Petrol   \n",
       "...                           ...       ...          ...      ...       ...   \n",
       "1594                 Renault Clio   28900.0      Renault     City    Petrol   \n",
       "1595                 KIA Sportage  100000.0          KIA      SUV    Diesel   \n",
       "1596   Volkswagen Golf 7 IQ drive   79500.0   Volkswagen  Compact    Petrol   \n",
       "1597                  Toyota Aygo   33000.0       Toyota  Compact    Petrol   \n",
       "1598             Ford Ka Titanium   25500.0         Ford     City    Petrol   \n",
       "\n",
       "      fiscal_horsepower transmission   mileage  year   age  price_per_km  \\\n",
       "0                  19.0    Automatic  120000.0  2014    10      1.066667   \n",
       "1                   7.0       Manual   85000.0  2020     4      0.376471   \n",
       "2                   6.0       Manual   32000.0  2021     3      1.750000   \n",
       "3                   9.0       Manual  200000.0  2015     9      0.225000   \n",
       "4                  13.0    Automatic  100000.0  2017     7      0.610000   \n",
       "...                 ...          ...       ...   ...   ...           ...   \n",
       "1594                5.0       Manual  233000.0   201  1823      0.124034   \n",
       "1595               10.0    Automatic  130000.0  2016     8      0.769231   \n",
       "1596                6.0       Manual  100000.0  2019     5      0.795000   \n",
       "1597                4.0       Manual   69000.0  2020     4      0.478261   \n",
       "1598                4.0       Manual   98000.0  2014    10      0.260204   \n",
       "\n",
       "      price_per_horsepower  \n",
       "0              6736.842105  \n",
       "1              4571.428571  \n",
       "2              9333.333333  \n",
       "3              5000.000000  \n",
       "4              4692.307692  \n",
       "...                    ...  \n",
       "1594           5780.000000  \n",
       "1595          10000.000000  \n",
       "1596          13250.000000  \n",
       "1597           8250.000000  \n",
       "1598           6375.000000  \n",
       "\n",
       "[1578 rows x 12 columns]"
      ]
     },
     "execution_count": 75,
     "metadata": {},
     "output_type": "execute_result"
    }
   ],
   "source": [
    "data.drop(['insertion_date'], axis=1)"
   ]
  },
  {
   "cell_type": "markdown",
   "metadata": {},
   "source": [
    "Wa want to get a general overview on the data we have, so we will get the statistical details of the whole dataset and for our relevant categorical attributes"
   ]
  },
  {
   "cell_type": "code",
   "execution_count": 76,
   "metadata": {},
   "outputs": [
    {
     "name": "stdout",
     "output_type": "stream",
     "text": [
      "               price  fiscal_horsepower        mileage  \\\n",
      "count    1578.000000        1578.000000    1578.000000   \n",
      "mean    89768.449937           8.242079  116409.249683   \n",
      "min     10000.000000           4.000000      20.000000   \n",
      "25%     44125.000000           6.000000   60000.000000   \n",
      "50%     68000.000000           7.000000  101000.000000   \n",
      "75%    110000.000000           9.000000  160000.000000   \n",
      "max    748000.000000          43.000000  730000.000000   \n",
      "std     72558.423950           4.542306   77428.368823   \n",
      "\n",
      "                      insertion_date          age  price_per_km  \\\n",
      "count                           1578  1578.000000   1578.000000   \n",
      "mean   2024-02-18 22:00:27.376425984    69.569075      8.073312   \n",
      "min              2024-01-19 00:00:00     0.000000      0.033333   \n",
      "25%              2024-02-16 00:00:00     4.000000      0.327801   \n",
      "50%              2024-02-24 00:00:00     6.000000      0.694121   \n",
      "75%              2024-02-26 00:00:00    10.000000      1.723887   \n",
      "max              2024-02-26 00:00:00  2022.000000   4750.000000   \n",
      "std                              NaN   331.654700    145.003361   \n",
      "\n",
      "       price_per_horsepower  \n",
      "count           1578.000000  \n",
      "mean           10938.700531  \n",
      "min             1111.111111  \n",
      "25%             6800.000000  \n",
      "50%             9750.000000  \n",
      "75%            13500.000000  \n",
      "max            49166.666667  \n",
      "std             5889.295003  \n"
     ]
    }
   ],
   "source": [
    "numerical_stats = data.describe()\n",
    "print(numerical_stats)"
   ]
  },
  {
   "cell_type": "code",
   "execution_count": 79,
   "metadata": {},
   "outputs": [
    {
     "name": "stdout",
     "output_type": "stream",
     "text": [
      "Value counts for category column:\n",
      "category\n",
      "SUV            463\n",
      "Sedan          419\n",
      "City           330\n",
      "Compact        111\n",
      "Coupe           96\n",
      "Other           72\n",
      "Utility         39\n",
      "Pickup          28\n",
      "Minivan         13\n",
      "Convertible      7\n",
      "Name: count, dtype: int64\n",
      "\n",
      "\n",
      "Value counts for manufacturer column:\n",
      "manufacturer\n",
      "Mercedes      204\n",
      "Volkswagen    161\n",
      "BMW           154\n",
      "KIA           114\n",
      "Peugeot        94\n",
      "Audi           71\n",
      "Ford           58\n",
      "Land Rover     58\n",
      "Hyundai        52\n",
      "Seat           51\n",
      "Renault        49\n",
      "Citroën        43\n",
      "Porsche        40\n",
      "Fiat           39\n",
      "Nissan         37\n",
      "Toyota         32\n",
      "Haval          29\n",
      "Mazda          29\n",
      "MG             24\n",
      "Chery          21\n",
      "Ssangyong      18\n",
      "Mahindra       18\n",
      "Mini           17\n",
      "Dacia          16\n",
      "Chevrolet      16\n",
      "Suzuki         14\n",
      "Jeep           12\n",
      "Jaguar         12\n",
      "Skoda          11\n",
      "Dongfeng        8\n",
      "Smart           8\n",
      "Opel            8\n",
      "Alfa Romeo      8\n",
      "Honda           7\n",
      "Mitsubishi      6\n",
      "Great Wall      5\n",
      "Isuzu           4\n",
      "Cupra           4\n",
      "Other           4\n",
      "DS              4\n",
      "Geely           3\n",
      "BAIC            3\n",
      "Volvo           2\n",
      "Lada            2\n",
      "TATA            2\n",
      "DFSK            2\n",
      "BYD             1\n",
      "Foton           1\n",
      "Infiniti        1\n",
      "Wallyscar       1\n",
      "Name: count, dtype: int64\n",
      "\n",
      "\n",
      "Value counts for fuel_type column:\n",
      "fuel_type\n",
      "Petrol           1226\n",
      "Diesel            277\n",
      "Hybrid Petrol      55\n",
      "Hybrid Diesel      17\n",
      "Electric            3\n",
      "Name: count, dtype: int64\n",
      "\n",
      "\n"
     ]
    }
   ],
   "source": [
    "categorical_columns = [\"category\", \"manufacturer\", \"fuel_type\"]\n",
    "\n",
    "for col in categorical_columns:\n",
    "    print(f\"Value counts for {col} column:\")\n",
    "    print(data[col].value_counts())\n",
    "    print(\"\\n\")"
   ]
  },
  {
   "cell_type": "markdown",
   "metadata": {},
   "source": [
    "Correlation Matrix for Numerical Features to understand how the numerical features correlate with each other"
   ]
  },
  {
   "cell_type": "code",
   "execution_count": null,
   "metadata": {},
   "outputs": [
    {
     "name": "stdout",
     "output_type": "stream",
     "text": [
      "                         price  fiscal_horsepower   mileage       age  \\\n",
      "price                 1.000000           0.521966 -0.351628 -0.097558   \n",
      "fiscal_horsepower     0.521966           1.000000  0.073579  0.117493   \n",
      "mileage              -0.351628           0.073579  1.000000  0.215787   \n",
      "age                  -0.097558           0.117493  0.215787  1.000000   \n",
      "price_per_km          0.030682          -0.001917 -0.075759 -0.010980   \n",
      "price_per_horsepower  0.763935          -0.014557 -0.519041 -0.183325   \n",
      "\n",
      "                      price_per_km  price_per_horsepower  \n",
      "price                     0.030682              0.763935  \n",
      "fiscal_horsepower        -0.001917             -0.014557  \n",
      "mileage                  -0.075759             -0.519041  \n",
      "age                      -0.010980             -0.183325  \n",
      "price_per_km              1.000000              0.041524  \n",
      "price_per_horsepower      0.041524              1.000000  \n"
     ]
    }
   ],
   "source": [
    "correlation_matrix = data.corr(numeric_only=True)\n",
    "\n",
    "print(correlation_matrix)"
   ]
  },
  {
   "cell_type": "markdown",
   "metadata": {},
   "source": [
    "Save the cleaned dataset"
   ]
  },
  {
   "cell_type": "code",
   "execution_count": 82,
   "metadata": {},
   "outputs": [],
   "source": [
    "data.to_csv(\"../data/cleaned_dataset.csv\", index=False)"
   ]
  },
  {
   "cell_type": "markdown",
   "metadata": {},
   "source": [
    "We will use the Min-Max Normalization four our numerical features"
   ]
  },
  {
   "cell_type": "code",
   "execution_count": 83,
   "metadata": {},
   "outputs": [],
   "source": [
    "from sklearn.preprocessing import MinMaxScaler\n",
    "\n",
    "scaler = MinMaxScaler()\n",
    "data[[\"price\", \"mileage\", \"fiscal_horsepower\"]] = scaler.fit_transform(data[[\"price\", \"mileage\", \"fiscal_horsepower\"]])\n"
   ]
  },
  {
   "cell_type": "code",
   "execution_count": 84,
   "metadata": {},
   "outputs": [
    {
     "name": "stdout",
     "output_type": "stream",
     "text": [
      "                         title     price manufacturer category fuel_type  \\\n",
      "0                      Audi S3  0.159892         Audi     City    Petrol   \n",
      "1  Mahindra Scorpio Pick-up DC  0.029810     Mahindra   Pickup    Diesel   \n",
      "2                   Fiat Doblo  0.062331         Fiat  Minivan    Petrol   \n",
      "3                  Ford Fusion  0.047425         Ford    Sedan    Petrol   \n",
      "4                MG GS AWD 2.0  0.069106           MG      SUV    Petrol   \n",
      "\n",
      "   fiscal_horsepower transmission   mileage  year insertion_date  age  \\\n",
      "0           0.384615    Automatic  0.164361  2014     2024-02-26   10   \n",
      "1           0.076923       Manual  0.116414  2020     2024-02-26    4   \n",
      "2           0.051282       Manual  0.043809  2021     2024-02-26    3   \n",
      "3           0.128205       Manual  0.273953  2015     2024-02-26    9   \n",
      "4           0.230769    Automatic  0.136963  2017     2024-02-26    7   \n",
      "\n",
      "   price_per_km  price_per_horsepower  \n",
      "0      1.066667           6736.842105  \n",
      "1      0.376471           4571.428571  \n",
      "2      1.750000           9333.333333  \n",
      "3      0.225000           5000.000000  \n",
      "4      0.610000           4692.307692  \n"
     ]
    }
   ],
   "source": [
    "print(data.head())"
   ]
  },
  {
   "cell_type": "markdown",
   "metadata": {},
   "source": [
    "Save Normalized dataset"
   ]
  },
  {
   "cell_type": "code",
   "execution_count": 85,
   "metadata": {},
   "outputs": [],
   "source": [
    "data.to_csv(\"../data/normalized_dataset.csv\", index=False)"
   ]
  }
 ],
 "metadata": {
  "kernelspec": {
   "display_name": "Python 3",
   "language": "python",
   "name": "python3"
  },
  "language_info": {
   "codemirror_mode": {
    "name": "ipython",
    "version": 3
   },
   "file_extension": ".py",
   "mimetype": "text/x-python",
   "name": "python",
   "nbconvert_exporter": "python",
   "pygments_lexer": "ipython3",
   "version": "3.10.12"
  }
 },
 "nbformat": 4,
 "nbformat_minor": 2
}
